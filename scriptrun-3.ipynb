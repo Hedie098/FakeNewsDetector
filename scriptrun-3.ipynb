{
 "cells": [
  {
   "cell_type": "code",
   "execution_count": 1,
   "id": "f3fc4a9e-607b-4bf1-ba99-e3b02a7edbc6",
   "metadata": {},
   "outputs": [],
   "source": [
    "import numpy as np\n",
    "import pandas as pd\n",
    "\n",
    "from sklearn.model_selection import train_test_split\n",
    "from sklearn.feature_extraction.text import TfidfVectorizer\n",
    "from sklearn.svm import LinearSVC"
   ]
  },
  {
   "cell_type": "code",
   "execution_count": 2,
   "id": "cfe7d396-2cfc-4ecc-ac05-3adfd4dca3b2",
   "metadata": {},
   "outputs": [],
   "source": [
    "data = pd.read_csv(\"fake_or_real_news.csv\")"
   ]
  },
  {
   "cell_type": "code",
   "execution_count": 3,
   "id": "5ef49d63-4ef7-454c-bc68-090081518c5d",
   "metadata": {},
   "outputs": [],
   "source": [
    "#make a column of 1s and 0s to distinguish easier between true or false\n",
    "data['fake'] = data['label'].apply(lambda x: 0 if x == \"REAL\" else 1) "
   ]
  },
  {
   "cell_type": "code",
   "execution_count": 4,
   "id": "a62d7174-0a4b-4b01-887c-fab4826aa811",
   "metadata": {},
   "outputs": [],
   "source": [
    "#drop the label column and it dissapears from the dataset\n",
    "data = data.drop(\"label\", axis = 1)"
   ]
  },
  {
   "cell_type": "code",
   "execution_count": 5,
   "id": "ae155200-677d-4139-8ca8-31d66ab4362c",
   "metadata": {},
   "outputs": [],
   "source": [
    "#X stores the text and y stores the bools\n",
    "X, y = data['text'], data['fake']"
   ]
  },
  {
   "cell_type": "code",
   "execution_count": 1,
   "id": "518b1c84-7e25-40f5-a62b-6e7298bf4d21",
   "metadata": {},
   "outputs": [
    {
     "ename": "NameError",
     "evalue": "name 'train_test_split' is not defined",
     "output_type": "error",
     "traceback": [
      "\u001b[0;31m---------------------------------------------------------------------------\u001b[0m",
      "\u001b[0;31mNameError\u001b[0m                                 Traceback (most recent call last)",
      "Cell \u001b[0;32mIn[1], line 2\u001b[0m\n\u001b[1;32m      1\u001b[0m \u001b[38;5;66;03m#train_test_split is used to split the dataset into training and testing sets, so 20% of the data will be used for testing and \u001b[39;00m\n\u001b[0;32m----> 2\u001b[0m X_train, X_test, y_train, y_test \u001b[38;5;241m=\u001b[39m \u001b[43mtrain_test_split\u001b[49m(X, y, test_size \u001b[38;5;241m=\u001b[39m \u001b[38;5;241m0.2\u001b[39m)\n",
      "\u001b[0;31mNameError\u001b[0m: name 'train_test_split' is not defined"
     ]
    }
   ],
   "source": [
    "#train_test_split is used to split the dataset into training and testing sets, so 20% of the data will be used for testing and\n",
    "# 80% will be used for training\n",
    "X_train, X_test, y_train, y_test = train_test_split(X, y, test_size = 0.2)"
   ]
  },
  {
   "cell_type": "code",
   "execution_count": 7,
   "id": "b6c704d6-3f00-47dc-93a2-6f151e11bc51",
   "metadata": {},
   "outputs": [],
   "source": [
    "#vectorize the X/text data so that the text can be used as input for the machine learning model\n",
    "vectorizer = TfidfVectorizer(stop_words = \"english\", max_df = 0.7)\n",
    "X_train_vectorized = vectorizer.fit_transform(X_train)\n",
    "X_test_vectorized = vectorizer.transform(X_test)"
   ]
  },
  {
   "cell_type": "code",
   "execution_count": 8,
   "id": "35cb59b3-2fa2-4f56-8285-eaad3983f678",
   "metadata": {},
   "outputs": [
    {
     "name": "stderr",
     "output_type": "stream",
     "text": [
      "/usr/local/lib/python3.11/site-packages/sklearn/svm/_classes.py:32: FutureWarning: The default value of `dual` will change from `True` to `'auto'` in 1.5. Set the value of `dual` explicitly to suppress the warning.\n",
      "  warnings.warn(\n"
     ]
    },
    {
     "data": {
      "text/html": [
       "<style>#sk-container-id-1 {color: black;}#sk-container-id-1 pre{padding: 0;}#sk-container-id-1 div.sk-toggleable {background-color: white;}#sk-container-id-1 label.sk-toggleable__label {cursor: pointer;display: block;width: 100%;margin-bottom: 0;padding: 0.3em;box-sizing: border-box;text-align: center;}#sk-container-id-1 label.sk-toggleable__label-arrow:before {content: \"▸\";float: left;margin-right: 0.25em;color: #696969;}#sk-container-id-1 label.sk-toggleable__label-arrow:hover:before {color: black;}#sk-container-id-1 div.sk-estimator:hover label.sk-toggleable__label-arrow:before {color: black;}#sk-container-id-1 div.sk-toggleable__content {max-height: 0;max-width: 0;overflow: hidden;text-align: left;background-color: #f0f8ff;}#sk-container-id-1 div.sk-toggleable__content pre {margin: 0.2em;color: black;border-radius: 0.25em;background-color: #f0f8ff;}#sk-container-id-1 input.sk-toggleable__control:checked~div.sk-toggleable__content {max-height: 200px;max-width: 100%;overflow: auto;}#sk-container-id-1 input.sk-toggleable__control:checked~label.sk-toggleable__label-arrow:before {content: \"▾\";}#sk-container-id-1 div.sk-estimator input.sk-toggleable__control:checked~label.sk-toggleable__label {background-color: #d4ebff;}#sk-container-id-1 div.sk-label input.sk-toggleable__control:checked~label.sk-toggleable__label {background-color: #d4ebff;}#sk-container-id-1 input.sk-hidden--visually {border: 0;clip: rect(1px 1px 1px 1px);clip: rect(1px, 1px, 1px, 1px);height: 1px;margin: -1px;overflow: hidden;padding: 0;position: absolute;width: 1px;}#sk-container-id-1 div.sk-estimator {font-family: monospace;background-color: #f0f8ff;border: 1px dotted black;border-radius: 0.25em;box-sizing: border-box;margin-bottom: 0.5em;}#sk-container-id-1 div.sk-estimator:hover {background-color: #d4ebff;}#sk-container-id-1 div.sk-parallel-item::after {content: \"\";width: 100%;border-bottom: 1px solid gray;flex-grow: 1;}#sk-container-id-1 div.sk-label:hover label.sk-toggleable__label {background-color: #d4ebff;}#sk-container-id-1 div.sk-serial::before {content: \"\";position: absolute;border-left: 1px solid gray;box-sizing: border-box;top: 0;bottom: 0;left: 50%;z-index: 0;}#sk-container-id-1 div.sk-serial {display: flex;flex-direction: column;align-items: center;background-color: white;padding-right: 0.2em;padding-left: 0.2em;position: relative;}#sk-container-id-1 div.sk-item {position: relative;z-index: 1;}#sk-container-id-1 div.sk-parallel {display: flex;align-items: stretch;justify-content: center;background-color: white;position: relative;}#sk-container-id-1 div.sk-item::before, #sk-container-id-1 div.sk-parallel-item::before {content: \"\";position: absolute;border-left: 1px solid gray;box-sizing: border-box;top: 0;bottom: 0;left: 50%;z-index: -1;}#sk-container-id-1 div.sk-parallel-item {display: flex;flex-direction: column;z-index: 1;position: relative;background-color: white;}#sk-container-id-1 div.sk-parallel-item:first-child::after {align-self: flex-end;width: 50%;}#sk-container-id-1 div.sk-parallel-item:last-child::after {align-self: flex-start;width: 50%;}#sk-container-id-1 div.sk-parallel-item:only-child::after {width: 0;}#sk-container-id-1 div.sk-dashed-wrapped {border: 1px dashed gray;margin: 0 0.4em 0.5em 0.4em;box-sizing: border-box;padding-bottom: 0.4em;background-color: white;}#sk-container-id-1 div.sk-label label {font-family: monospace;font-weight: bold;display: inline-block;line-height: 1.2em;}#sk-container-id-1 div.sk-label-container {text-align: center;}#sk-container-id-1 div.sk-container {/* jupyter's `normalize.less` sets `[hidden] { display: none; }` but bootstrap.min.css set `[hidden] { display: none !important; }` so we also need the `!important` here to be able to override the default hidden behavior on the sphinx rendered scikit-learn.org. See: https://github.com/scikit-learn/scikit-learn/issues/21755 */display: inline-block !important;position: relative;}#sk-container-id-1 div.sk-text-repr-fallback {display: none;}</style><div id=\"sk-container-id-1\" class=\"sk-top-container\"><div class=\"sk-text-repr-fallback\"><pre>LinearSVC()</pre><b>In a Jupyter environment, please rerun this cell to show the HTML representation or trust the notebook. <br />On GitHub, the HTML representation is unable to render, please try loading this page with nbviewer.org.</b></div><div class=\"sk-container\" hidden><div class=\"sk-item\"><div class=\"sk-estimator sk-toggleable\"><input class=\"sk-toggleable__control sk-hidden--visually\" id=\"sk-estimator-id-1\" type=\"checkbox\" checked><label for=\"sk-estimator-id-1\" class=\"sk-toggleable__label sk-toggleable__label-arrow\">LinearSVC</label><div class=\"sk-toggleable__content\"><pre>LinearSVC()</pre></div></div></div></div></div>"
      ],
      "text/plain": [
       "LinearSVC()"
      ]
     },
     "execution_count": 8,
     "metadata": {},
     "output_type": "execute_result"
    }
   ],
   "source": [
    "#create an instance of the classifier, classifiers are trained on seen data, and then the trained classifier is then used\n",
    "#to predict the outcome of the unseen data\n",
    "clf = LinearSVC()\n",
    "#The classifier learns the relationships between the input features \n",
    "#(TF-IDF values in this case) and the target variable (labels).\n",
    "#Term Frequency: TF of a term or word is the number of times the term appears in a document \n",
    "#compared to the total number of words in the document.\n",
    "#Inverse Document Frequency: IDF of a term reflects the proportion of documents in the corpus that contain the term.\n",
    "clf.fit(X_train_vectorized, y_train)"
   ]
  },
  {
   "cell_type": "code",
   "execution_count": 9,
   "id": "c16bf7fb-e2e0-4c6d-a474-c92678ec0cf8",
   "metadata": {},
   "outputs": [
    {
     "data": {
      "text/plain": [
       "0.9423835832675612"
      ]
     },
     "execution_count": 9,
     "metadata": {},
     "output_type": "execute_result"
    }
   ],
   "source": [
    "#95 % accuracy from 1267 articles\n",
    "clf.score(X_test_vectorized, y_test)"
   ]
  },
  {
   "cell_type": "code",
   "execution_count": 10,
   "id": "85087d4f-0238-4e01-84b8-4d885edc2835",
   "metadata": {},
   "outputs": [
    {
     "data": {
      "text/plain": [
       "1267"
      ]
     },
     "execution_count": 10,
     "metadata": {},
     "output_type": "execute_result"
    }
   ],
   "source": [
    "len(y_test)"
   ]
  },
  {
   "cell_type": "code",
   "execution_count": 11,
   "id": "d189866b-54ff-4af3-a5be-3236b489b429",
   "metadata": {},
   "outputs": [
    {
     "data": {
      "text/plain": [
       "1200.9893"
      ]
     },
     "execution_count": 11,
     "metadata": {},
     "output_type": "execute_result"
    }
   ],
   "source": [
    "#1200 were true articles\n",
    "len(y_test) * .9479"
   ]
  },
  {
   "cell_type": "code",
   "execution_count": 20,
   "id": "dc784053-c694-40ea-ada1-20504005952c",
   "metadata": {},
   "outputs": [],
   "source": [
    "#how to test text from the fake_or_real_news.csv\n",
    "with open(\"news.txt\", \"w\", encoding = \"utf-8\") as f:\n",
    "    f.write(X_test.iloc[10])"
   ]
  },
  {
   "cell_type": "code",
   "execution_count": 21,
   "id": "9ee857dd-d503-4c0a-8bf3-80fa7e17e4a9",
   "metadata": {},
   "outputs": [],
   "source": [
    "with open(\"news.txt\", \"r\", encoding = \"utf-8\") as f:\n",
    "    text = f.read()"
   ]
  },
  {
   "cell_type": "code",
   "execution_count": 22,
   "id": "a59c21f0-89d0-4529-8cab-5ec08fa1f629",
   "metadata": {},
   "outputs": [],
   "source": [
    "vectorized_text = vectorizer.transform([text])"
   ]
  },
  {
   "cell_type": "code",
   "execution_count": 23,
   "id": "7d72b77c-d6d8-44da-8c77-590d769765e2",
   "metadata": {},
   "outputs": [
    {
     "data": {
      "text/plain": [
       "array([1])"
      ]
     },
     "execution_count": 23,
     "metadata": {},
     "output_type": "execute_result"
    }
   ],
   "source": [
    "clf.predict(vectorized_text)"
   ]
  },
  {
   "cell_type": "code",
   "execution_count": 24,
   "id": "7408e22d-775d-4072-ba4d-c6e0fa05369c",
   "metadata": {},
   "outputs": [],
   "source": [
    "#how to test your own text\n",
    "with open(\"news.txt\", \"r\", encoding=\"utf-8\") as file:\n",
    "    new_text = file.read()"
   ]
  },
  {
   "cell_type": "code",
   "execution_count": 25,
   "id": "ce3c7850-12c2-4474-8571-20ec19fb945d",
   "metadata": {},
   "outputs": [],
   "source": [
    "# Vectorize the new text using the same vectorizer\n",
    "new_text_vectorized = vectorizer.transform([new_text])"
   ]
  },
  {
   "cell_type": "code",
   "execution_count": 26,
   "id": "ceaa9f36-474e-48be-b1fe-12addf189110",
   "metadata": {},
   "outputs": [],
   "source": [
    "# Use the trained classifier to predict the label (0 for REAL, 1 for FAKE)\n",
    "prediction = clf.predict(new_text_vectorized)"
   ]
  },
  {
   "cell_type": "code",
   "execution_count": 27,
   "id": "cb700fa3-cfaa-4ccc-8fd2-eef37e5db57f",
   "metadata": {},
   "outputs": [
    {
     "name": "stdout",
     "output_type": "stream",
     "text": [
      "The news in 'news.txt' is classified as FAKE.\n"
     ]
    }
   ],
   "source": [
    "# Print the result\n",
    "if prediction[0] == 0:\n",
    "    print(\"The news in 'news.txt' is classified as REAL.\")\n",
    "else:\n",
    "    print(\"The news in 'news.txt' is classified as FAKE.\")"
   ]
  },
  {
   "cell_type": "code",
   "execution_count": null,
   "id": "f8133853-fd90-407d-9fe5-1eb9c42aa184",
   "metadata": {},
   "outputs": [],
   "source": []
  }
 ],
 "metadata": {
  "kernelspec": {
   "display_name": "Python 3 (ipykernel)",
   "language": "python",
   "name": "python3"
  },
  "language_info": {
   "codemirror_mode": {
    "name": "ipython",
    "version": 3
   },
   "file_extension": ".py",
   "mimetype": "text/x-python",
   "name": "python",
   "nbconvert_exporter": "python",
   "pygments_lexer": "ipython3",
   "version": "3.11.6"
  }
 },
 "nbformat": 4,
 "nbformat_minor": 5
}
